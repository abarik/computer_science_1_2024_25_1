{
  "cells": [
    {
      "cell_type": "markdown",
      "metadata": {},
      "source": [
        "# Syllabus\n",
        "\n",
        "**Year**: 2023/24/1, Semester 1\\\n",
        "**Class Location**: P/106/A, Institute of Psychology, University of Debrecen\\\n",
        "**Course Number**: BTPS1210BA-E\\\n",
        "**Meeting Times**: Wednesday 14:00 - 15:40\\\n",
        "**Contact Information**: Please contact me through email anytime: [abari.kalman\\@arts.unideb.hu](mailto:abari.kalman@arts.unideb.hu){.email}\n",
        "\n",
        "\n",
        "\n",
        "```{css, echo=FALSE}\n",
        ".center-table table {\n",
        "  width: 50%;\n",
        "  margin-left: auto;\n",
        "  margin-right: auto;\n",
        "}\n",
        "```\n",
        "\n",
        "\n",
        "\n",
        "::: {.center-table}\n",
        "\n",
        "| Day       | Topic                                             | Links                         |\n",
        "|----------------|-----------------------------------------|----------------|\n",
        "| sept. 6.  | Intro                                             | [Details](details.qmd#sec-01) |\n",
        "| sept. 13. | Digital literacy: files, directories, compressing | [Details](details.qmd#sec-02) |\n",
        "| sept. 20. | RStudio reporting: markdown, Quarto document      | [Details](details.qmd#sec-03) |\n",
        "| sept. 27. | TXT, CSV, Spreadsheets                            | [Details](details.qmd#sec-04) |\n",
        "| oct. 4.   | Jamovi - Introduction                             | [Details](details.qmd#sec-05) |\n",
        "| oct. 11.  | Jamovi - Import data, Data conversion             | [Details](details.qmd#sec-06) |\n",
        "| oct. 18.  | Jamovi - Data transformation                      | [Details](details.qmd#sec-07) |\n",
        "| oct. 25.  | Jamovi - Descriptive statistics I.                | [Details](details.qmd#sec-08) |\n",
        "| nov. 1.   | Jamovi - Descriptive statistics II.               | [Details](details.qmd#sec-09) |\n",
        "| nov. 8.   | JabRef - Bibliography management                  | [Details](details.qmd#sec-10) |\n",
        "| nov. 15.  | Word - Styles, TOC, Bibliography, APA7            | [Details](details.qmd#sec-11) |\n",
        "| nov. 22.  | Presentation: Power Point                         | [Details](details.qmd#sec-12) |\n",
        "| nov. 29.  | Assignments                                       | [Details](details.qmd#sec-13) |\n",
        "\n",
        ": Course details {.striped .hover}\n",
        "\n",
        ":::"
      ],
      "id": "67373c63"
    }
  ],
  "metadata": {
    "kernelspec": {
      "display_name": "Python 3",
      "language": "python",
      "name": "python3"
    }
  },
  "nbformat": 4,
  "nbformat_minor": 5
}